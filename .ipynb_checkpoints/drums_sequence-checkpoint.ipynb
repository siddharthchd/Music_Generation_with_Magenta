{
 "cells": [
  {
   "cell_type": "code",
   "execution_count": 5,
   "metadata": {
    "ExecuteTime": {
     "end_time": "2020-12-05T08:17:59.481924Z",
     "start_time": "2020-12-05T08:17:59.437044Z"
    }
   },
   "outputs": [],
   "source": [
    "import os\n",
    "import magenta.music as mm\n",
    "from magenta.models.shared import sequence_generator_bundle\n",
    "\n",
    "mm.notebook_utils.download_bundle(\"drum_kit_rnn.mag\", \"bundles\")\n",
    "bundle = sequence_generator_bundle.read_bundle_file(os.path.join(\"bundles\", \"drum_kit_rnn.mag\"))"
   ]
  },
  {
   "cell_type": "code",
   "execution_count": 6,
   "metadata": {
    "ExecuteTime": {
     "end_time": "2020-12-05T08:18:01.178327Z",
     "start_time": "2020-12-05T08:17:59.725273Z"
    }
   },
   "outputs": [
    {
     "name": "stdout",
     "output_type": "stream",
     "text": [
      "WARNING:tensorflow:The saved meta_graph is possibly from an older release:\n",
      "'model_variables' collection should be of type 'byte_list', but instead is of type 'node_list'.\n",
      "INFO:tensorflow:Restoring parameters from C:\\Users\\siddh\\AppData\\Local\\Temp\\tmpvr5skd66\\model.ckpt\n"
     ]
    }
   ],
   "source": [
    "from magenta.models.drums_rnn import drums_rnn_sequence_generator\n",
    "\n",
    "generator_map = drums_rnn_sequence_generator.get_generator_map()\n",
    "generator = generator_map[\"drum_kit\"](checkpoint = None, bundle = bundle)\n",
    "generator.initialize()"
   ]
  },
  {
   "cell_type": "code",
   "execution_count": 8,
   "metadata": {
    "ExecuteTime": {
     "end_time": "2020-12-05T08:18:09.880986Z",
     "start_time": "2020-12-05T08:18:09.877005Z"
    }
   },
   "outputs": [
    {
     "name": "stdout",
     "output_type": "stream",
     "text": [
      "Seconds per steps : 0.1\n",
      "Seconds per bar : 1.6\n"
     ]
    }
   ],
   "source": [
    "from magenta.music import constants\n",
    "\n",
    "# 1 bar primer - generate 3 bars to get 4 bars\n",
    "num_bars = 3\n",
    "qpm = 150\n",
    "\n",
    "# 4 steps per quarter\n",
    "secs_per_step = 60.0 / (qpm * generator.steps_per_quarter)\n",
    "num_steps_per_bar = constants.DEFAULT_STEPS_PER_BAR\n",
    "secs_per_bar = num_steps_per_bar * secs_per_step\n",
    "\n",
    "print(\"Seconds per steps : {}\".format(secs_per_step))\n",
    "print(\"Seconds per bar : {}\".format(secs_per_bar))"
   ]
  },
  {
   "cell_type": "code",
   "execution_count": 11,
   "metadata": {
    "ExecuteTime": {
     "end_time": "2020-12-05T08:25:14.266102Z",
     "start_time": "2020-12-05T08:25:14.259113Z"
    }
   },
   "outputs": [
    {
     "name": "stdout",
     "output_type": "stream",
     "text": [
      "Primer start : 0 \t Primer end : 1.6\n",
      "Generation start : 1.6 \t Generation end : 6.4\n"
     ]
    }
   ],
   "source": [
    "# Using a 1 bar primer\n",
    "# PC# 26 : Acoustic Guitar (Steel)\n",
    "# PC# 34 : Electric Bass (finger)\n",
    "# PC# 42 : Viola\n",
    "# PC# 61 : French Horn\n",
    "\n",
    "primer_drums = mm.DrumTrack([frozenset(pitches) for pitches in \n",
    "                            [(42, 61), (), (26, ), (),\n",
    "                             (42, 34, 61), (), (26, ), (),\n",
    "                             (), (), (42, ), (), \n",
    "                             (42, 34), (), (26, 61), (), ]])\n",
    "primer_sequence = primer_drums.to_sequence(qpm = qpm)\n",
    "primer_start_time = 0\n",
    "primer_end_time = primer_start_time + secs_per_bar\n",
    "\n",
    "gen_start_time = primer_end_time\n",
    "gen_end_time = gen_start_time + (secs_per_bar * num_bars)\n",
    "\n",
    "print('Primer start : {} \\t Primer end : {}'.format(primer_start_time, primer_end_time))\n",
    "print('Generation start : {} \\t Generation end : {}'.format(gen_start_time, gen_end_time))"
   ]
  },
  {
   "cell_type": "code",
   "execution_count": 14,
   "metadata": {
    "ExecuteTime": {
     "end_time": "2020-12-05T08:29:13.738500Z",
     "start_time": "2020-12-05T08:29:13.721545Z"
    }
   },
   "outputs": [
    {
     "name": "stdout",
     "output_type": "stream",
     "text": [
      "Temperature : 1.2\n"
     ]
    },
    {
     "data": {
      "text/plain": [
       "start_time: 1.6\n",
       "end_time: 6.4"
      ]
     },
     "execution_count": 14,
     "metadata": {},
     "output_type": "execute_result"
    }
   ],
   "source": [
    "from note_seq.protobuf import generator_pb2\n",
    "\n",
    "temp = 1.2\n",
    "generator_options = generator_pb2.GeneratorOptions()\n",
    "generator_options.args['temperature'].float_value = temp\n",
    "print('Temperature : {}'.format(temp))\n",
    "\n",
    "# Define generator\n",
    "generator_options.generate_sections.add(start_time = gen_start_time, end_time = gen_end_time)"
   ]
  },
  {
   "cell_type": "code",
   "execution_count": 15,
   "metadata": {
    "ExecuteTime": {
     "end_time": "2020-12-05T08:30:15.157510Z",
     "start_time": "2020-12-05T08:30:14.018293Z"
    }
   },
   "outputs": [
    {
     "name": "stdout",
     "output_type": "stream",
     "text": [
      "INFO:tensorflow:Beam search yields sequence with log-likelihood: -84.731590 \n"
     ]
    }
   ],
   "source": [
    "# Generating notesequence\n",
    "sequence = generator.generate(primer_sequence, generator_options)"
   ]
  },
  {
   "cell_type": "code",
   "execution_count": 19,
   "metadata": {
    "ExecuteTime": {
     "end_time": "2020-12-05T08:34:14.249237Z",
     "start_time": "2020-12-05T08:34:13.906999Z"
    }
   },
   "outputs": [
    {
     "name": "stdout",
     "output_type": "stream",
     "text": [
      "Generated midi : C:\\Users\\siddh\\Documents\\GitHub\\magenta_project\\output\\out_seq.mid\n",
      "Generated plot : C:\\Users\\siddh\\Documents\\GitHub\\magenta_project\\output\\out_plot.html\n"
     ]
    }
   ],
   "source": [
    "from visual_midi import Plotter\n",
    "\n",
    "midi = os.path.join('output', 'out_seq.mid')\n",
    "mm.midi_io.note_sequence_to_midi_file(sequence, midi)\n",
    "print('Generated midi : {}'.format(os.path.abspath(midi)))\n",
    "\n",
    "plot = os.path.join('output', 'out_plot.html')\n",
    "pretty_midi = mm.midi_io.note_sequence_to_pretty_midi(sequence)\n",
    "plotter = Plotter()\n",
    "plotter.show(pretty_midi, plot)\n",
    "print('Generated plot : {}'.format(os.path.abspath(plot)))"
   ]
  },
  {
   "cell_type": "code",
   "execution_count": null,
   "metadata": {},
   "outputs": [],
   "source": []
  }
 ],
 "metadata": {
  "kernelspec": {
   "display_name": "Python 3",
   "language": "python",
   "name": "python3"
  },
  "language_info": {
   "codemirror_mode": {
    "name": "ipython",
    "version": 3
   },
   "file_extension": ".py",
   "mimetype": "text/x-python",
   "name": "python",
   "nbconvert_exporter": "python",
   "pygments_lexer": "ipython3",
   "version": "3.6.12"
  }
 },
 "nbformat": 4,
 "nbformat_minor": 4
}
