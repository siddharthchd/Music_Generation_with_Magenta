{
 "cells": [
  {
   "cell_type": "code",
   "execution_count": 1,
   "metadata": {
    "ExecuteTime": {
     "end_time": "2020-12-05T12:37:52.547054Z",
     "start_time": "2020-12-05T12:37:44.056332Z"
    }
   },
   "outputs": [
    {
     "name": "stdout",
     "output_type": "stream",
     "text": [
      "/device:GPU:0\n"
     ]
    }
   ],
   "source": [
    "import os\n",
    "import time\n",
    "import math\n",
    "import magenta.music as mm\n",
    "import tensorflow as tf\n",
    "from magenta.models.polyphony_rnn import polyphony_sequence_generator\n",
    "from magenta.models.shared import sequence_generator_bundle\n",
    "from magenta.music import DEFAULT_QUARTERS_PER_MINUTE\n",
    "from magenta.music.protobuf.generator_pb2 import GeneratorOptions\n",
    "from magenta.music.protobuf.music_pb2 import NoteSequence\n",
    "from visual_midi import Plotter\n",
    "\n",
    "print(tf.test.gpu_device_name())"
   ]
  },
  {
   "cell_type": "code",
   "execution_count": 2,
   "metadata": {
    "ExecuteTime": {
     "end_time": "2020-12-05T12:37:52.564009Z",
     "start_time": "2020-12-05T12:37:52.548051Z"
    }
   },
   "outputs": [],
   "source": [
    "def generate(bundle_name, seq_generator, gen_id, primer, qpm = DEFAULT_QUARTERS_PER_MINUTE, \n",
    "             condition_on_primer = False, inject_primer_during_generation = False, total_steps = 64, \n",
    "             temp = 1.0, beam_size = 1, branch_factor = 1, steps_per_iteration = 1):\n",
    "    \n",
    "    mm.notebook_utils.download_bundle(bundle_name, \"bundles\")\n",
    "    bundle = sequence_generator_bundle.read_bundle_file(os.path.join(\"bundles\", bundle_name))\n",
    "    \n",
    "    generator_map = seq_generator.get_generator_map()\n",
    "    generator = generator_map[gen_id](checkpoint = None, bundle = bundle)\n",
    "    generator.initialize()\n",
    "    \n",
    "    if primer:\n",
    "        primer_seq = mm.midi_io.midi_file_to_note_sequence(primer)\n",
    "    else:\n",
    "        primer_seq = NoteSequence()\n",
    "        \n",
    "    if primer_seq.tempos:\n",
    "        if len(primer_seq.tempos) > 1:\n",
    "            raise Exception('Monophonic Melody Generation. No support for multiple tempos')\n",
    "        qpm = primer_seq.tempos[0].qpm\n",
    "        \n",
    "    secs_per_step = 60.0 / (qpm * getattr(generator, 'steps_per_quarter', 4))\n",
    "    \n",
    "    primer_seq_steps = math.ceil(primer_seq.total_time / secs_per_step)\n",
    "    primer_seq_time = primer_seq_steps * secs_per_step\n",
    "    primer_end_ad = (0.00001 if primer_seq_time > 0 else 0)\n",
    "    primer_start_time = 0\n",
    "    primer_end_time = primer_start_time + primer_seq_time - primer_end_ad\n",
    "    \n",
    "    gen_steps = total_steps - primer_seq_steps\n",
    "    \n",
    "    if gen_steps <= 0:\n",
    "        raise Exception('Total steps too small : {}. Need at least 1 bar bigger than primer : {}'.format(\n",
    "        total_steps, primer_seq_steps))\n",
    "    \n",
    "    gen_time = gen_steps * secs_per_step\n",
    "    gen_start_time = primer_end_time\n",
    "    gen_end_time = gen_start_time + gen_time + primer_end_ad\n",
    "    \n",
    "    print('Primer start : {} \\t Primer end : {}'.format(primer_start_time, primer_end_time))\n",
    "    print('Generation start : {} \\t Generation end : {}'.format(gen_start_time, gen_end_time))\n",
    "    \n",
    "    generator_options = GeneratorOptions()\n",
    "    generator_options.args['temperature'].float_value = temp\n",
    "    generator_options.args['beach_size'].int_value = beam_size\n",
    "    generator_options.args['branch_factor'].int_value = branch_factor\n",
    "    generator_options.args['steps_per_iteration'].int_value = steps_per_iteration\n",
    "    generator_options.args['condition_on_primer'].bool_value = condition_on_primer\n",
    "    generator_options.args['no_inject_primer_during_generation'].bool_value = not inject_primer_during_generation\n",
    "    generator_options.generate_sections.add(start_time = gen_start_time, end_time = gen_end_time)\n",
    "    \n",
    "    seq = generator.generate(primer_seq, generator_options)\n",
    "    \n",
    "    # Write midi file\n",
    "    date_time = time.strftime('%Y-%m-%d_%H%M%S')\n",
    "    gen_name = str(generator.__class__).split('.')[2]\n",
    "    midi = '%s_%s_%s.mid' % (gen_name, gen_id, date_time)\n",
    "    midi_path = os.path.join('output', midi)\n",
    "    mm.midi_io.note_sequence_to_midi_file(seq, midi_path)\n",
    "    print('Generated midi : {}'.format(os.path.abspath(midi_path)))\n",
    "    \n",
    "    # Generate plot\n",
    "    date_time = time.strftime('%Y-%m-%d_%H%M%S')\n",
    "    gen_name = str(generator.__class__).split('.')[2]\n",
    "    plot = '%s_%s_%s.html' % (gen_name, gen_id, date_time)\n",
    "    plot_path = os.path.join('output', plot)\n",
    "    \n",
    "    pretty_midi = mm.midi_io.note_sequence_to_pretty_midi(seq)\n",
    "    plotter = Plotter()\n",
    "    plotter.show(pretty_midi, plot_path)\n",
    "    print('Generated plot : {}'.format(os.path.abspath(plot_path)))\n",
    "    \n",
    "    return seq"
   ]
  },
  {
   "cell_type": "code",
   "execution_count": 3,
   "metadata": {
    "ExecuteTime": {
     "end_time": "2020-12-05T12:37:54.078984Z",
     "start_time": "2020-12-05T12:37:52.565007Z"
    }
   },
   "outputs": [
    {
     "name": "stdout",
     "output_type": "stream",
     "text": [
      "WARNING:tensorflow:The saved meta_graph is possibly from an older release:\n",
      "'model_variables' collection should be of type 'byte_list', but instead is of type 'node_list'.\n",
      "INFO:tensorflow:Restoring parameters from C:\\Users\\siddh\\AppData\\Local\\Temp\\tmp_e47lgn0\\model.ckpt\n"
     ]
    },
    {
     "ename": "FileNotFoundError",
     "evalue": "[Errno 2] No such file or directory: 'Fur_Elisa_Beethoveen_Polyphonic.mid'",
     "output_type": "error",
     "traceback": [
      "\u001b[1;31m---------------------------------------------------------------------------\u001b[0m",
      "\u001b[1;31mFileNotFoundError\u001b[0m                         Traceback (most recent call last)",
      "\u001b[1;32m<ipython-input-3-420a913ad7b6>\u001b[0m in \u001b[0;36m<module>\u001b[1;34m\u001b[0m\n\u001b[0;32m      1\u001b[0m generate(\"polyphony_rnn.mag\", polyphony_sequence_generator, \"polyphony\",\n\u001b[0;32m      2\u001b[0m          \u001b[0mcondition_on_primer\u001b[0m \u001b[1;33m=\u001b[0m \u001b[1;32mFalse\u001b[0m\u001b[1;33m,\u001b[0m \u001b[0minject_primer_during_generation\u001b[0m \u001b[1;33m=\u001b[0m \u001b[1;32mFalse\u001b[0m\u001b[1;33m,\u001b[0m \u001b[0mtemp\u001b[0m \u001b[1;33m=\u001b[0m \u001b[1;36m0.9\u001b[0m\u001b[1;33m,\u001b[0m\u001b[1;33m\u001b[0m\u001b[1;33m\u001b[0m\u001b[0m\n\u001b[1;32m----> 3\u001b[1;33m          primer = \"Fur_Elisa_Beethoveen_Polyphonic.mid\")\n\u001b[0m",
      "\u001b[1;32m<ipython-input-2-5a88218110e7>\u001b[0m in \u001b[0;36mgenerate\u001b[1;34m(bundle_name, seq_generator, gen_id, primer, qpm, condition_on_primer, inject_primer_during_generation, total_steps, temp, beam_size, branch_factor, steps_per_iteration)\u001b[0m\n\u001b[0;32m     11\u001b[0m \u001b[1;33m\u001b[0m\u001b[0m\n\u001b[0;32m     12\u001b[0m     \u001b[1;32mif\u001b[0m \u001b[0mprimer\u001b[0m\u001b[1;33m:\u001b[0m\u001b[1;33m\u001b[0m\u001b[1;33m\u001b[0m\u001b[0m\n\u001b[1;32m---> 13\u001b[1;33m         \u001b[0mprimer_seq\u001b[0m \u001b[1;33m=\u001b[0m \u001b[0mmm\u001b[0m\u001b[1;33m.\u001b[0m\u001b[0mmidi_io\u001b[0m\u001b[1;33m.\u001b[0m\u001b[0mmidi_file_to_note_sequence\u001b[0m\u001b[1;33m(\u001b[0m\u001b[0mprimer\u001b[0m\u001b[1;33m)\u001b[0m\u001b[1;33m\u001b[0m\u001b[1;33m\u001b[0m\u001b[0m\n\u001b[0m\u001b[0;32m     14\u001b[0m     \u001b[1;32melse\u001b[0m\u001b[1;33m:\u001b[0m\u001b[1;33m\u001b[0m\u001b[1;33m\u001b[0m\u001b[0m\n\u001b[0;32m     15\u001b[0m         \u001b[0mprimer_seq\u001b[0m \u001b[1;33m=\u001b[0m \u001b[0mNoteSequence\u001b[0m\u001b[1;33m(\u001b[0m\u001b[1;33m)\u001b[0m\u001b[1;33m\u001b[0m\u001b[1;33m\u001b[0m\u001b[0m\n",
      "\u001b[1;32mc:\\users\\siddh\\anaconda3\\envs\\magenta\\lib\\site-packages\\note_seq\\midi_io.py\u001b[0m in \u001b[0;36mmidi_file_to_note_sequence\u001b[1;34m(midi_file)\u001b[0m\n\u001b[0;32m    183\u001b[0m     \u001b[0mMIDIConversionError\u001b[0m\u001b[1;33m:\u001b[0m \u001b[0mInvalid\u001b[0m \u001b[0mmidi_file\u001b[0m\u001b[1;33m.\u001b[0m\u001b[1;33m\u001b[0m\u001b[1;33m\u001b[0m\u001b[0m\n\u001b[0;32m    184\u001b[0m   \"\"\"\n\u001b[1;32m--> 185\u001b[1;33m   \u001b[1;32mwith\u001b[0m \u001b[0mopen\u001b[0m\u001b[1;33m(\u001b[0m\u001b[0mmidi_file\u001b[0m\u001b[1;33m,\u001b[0m \u001b[1;34m'rb'\u001b[0m\u001b[1;33m)\u001b[0m \u001b[1;32mas\u001b[0m \u001b[0mf\u001b[0m\u001b[1;33m:\u001b[0m\u001b[1;33m\u001b[0m\u001b[1;33m\u001b[0m\u001b[0m\n\u001b[0m\u001b[0;32m    186\u001b[0m     \u001b[0mmidi_as_string\u001b[0m \u001b[1;33m=\u001b[0m \u001b[0mf\u001b[0m\u001b[1;33m.\u001b[0m\u001b[0mread\u001b[0m\u001b[1;33m(\u001b[0m\u001b[1;33m)\u001b[0m\u001b[1;33m\u001b[0m\u001b[1;33m\u001b[0m\u001b[0m\n\u001b[0;32m    187\u001b[0m     \u001b[1;32mreturn\u001b[0m \u001b[0mmidi_to_note_sequence\u001b[0m\u001b[1;33m(\u001b[0m\u001b[0mmidi_as_string\u001b[0m\u001b[1;33m)\u001b[0m\u001b[1;33m\u001b[0m\u001b[1;33m\u001b[0m\u001b[0m\n",
      "\u001b[1;31mFileNotFoundError\u001b[0m: [Errno 2] No such file or directory: 'Fur_Elisa_Beethoveen_Polyphonic.mid'"
     ]
    }
   ],
   "source": [
    "generate(\"polyphony_rnn.mag\", polyphony_sequence_generator, \"polyphony\",\n",
    "         condition_on_primer = False, inject_primer_during_generation = False, temp = 0.9,\n",
    "         primer = \"Fur_Elisa_Beethoveen_Polyphonic.mid\")"
   ]
  },
  {
   "cell_type": "code",
   "execution_count": null,
   "metadata": {},
   "outputs": [],
   "source": []
  }
 ],
 "metadata": {
  "kernelspec": {
   "display_name": "Python 3",
   "language": "python",
   "name": "python3"
  },
  "language_info": {
   "codemirror_mode": {
    "name": "ipython",
    "version": 3
   },
   "file_extension": ".py",
   "mimetype": "text/x-python",
   "name": "python",
   "nbconvert_exporter": "python",
   "pygments_lexer": "ipython3",
   "version": "3.6.12"
  }
 },
 "nbformat": 4,
 "nbformat_minor": 4
}
