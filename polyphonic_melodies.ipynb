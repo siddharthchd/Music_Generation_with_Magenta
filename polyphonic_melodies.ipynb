{
 "cells": [
  {
   "cell_type": "code",
   "execution_count": null,
   "metadata": {
    "ExecuteTime": {
     "end_time": "2020-12-05T12:37:52.547054Z",
     "start_time": "2020-12-05T12:37:44.056332Z"
    }
   },
   "outputs": [],
   "source": [
    "import os\n",
    "import time\n",
    "import math\n",
    "import magenta.music as mm\n",
    "import tensorflow as tf\n",
    "from magenta.models.polyphony_rnn import polyphony_sequence_generator\n",
    "from magenta.models.shared import sequence_generator_bundle\n",
    "from magenta.music import DEFAULT_QUARTERS_PER_MINUTE\n",
    "from magenta.music.protobuf.generator_pb2 import GeneratorOptions\n",
    "from magenta.music.protobuf.music_pb2 import NoteSequence\n",
    "from visual_midi import Plotter\n",
    "\n",
    "print(tf.test.gpu_device_name())"
   ]
  },
  {
   "cell_type": "code",
   "execution_count": null,
   "metadata": {
    "ExecuteTime": {
     "end_time": "2020-12-05T12:37:52.564009Z",
     "start_time": "2020-12-05T12:37:52.548051Z"
    }
   },
   "outputs": [],
   "source": [
    "def generate(bundle_name, seq_generator, gen_id, primer, qpm = DEFAULT_QUARTERS_PER_MINUTE, \n",
    "             condition_on_primer = False, inject_primer_during_generation = False, total_steps = 64, \n",
    "             temp = 1.0, beam_size = 1, branch_factor = 1, steps_per_iteration = 1):\n",
    "    \n",
    "    mm.notebook_utils.download_bundle(bundle_name, \"bundles\")\n",
    "    bundle = sequence_generator_bundle.read_bundle_file(os.path.join(\"bundles\", bundle_name))\n",
    "    \n",
    "    generator_map = seq_generator.get_generator_map()\n",
    "    generator = generator_map[gen_id](checkpoint = None, bundle = bundle)\n",
    "    generator.initialize()\n",
    "    \n",
    "    if primer:\n",
    "        primer_seq = mm.midi_io.midi_file_to_note_sequence(primer)\n",
    "    else:\n",
    "        primer_seq = NoteSequence()\n",
    "        \n",
    "    if primer_seq.tempos:\n",
    "        if len(primer_seq.tempos) > 1:\n",
    "            raise Exception('Monophonic Melody Generation. No support for multiple tempos')\n",
    "        qpm = primer_seq.tempos[0].qpm\n",
    "        \n",
    "    secs_per_step = 60.0 / (qpm * getattr(generator, 'steps_per_quarter', 4))\n",
    "    \n",
    "    primer_seq_steps = math.ceil(primer_seq.total_time / secs_per_step)\n",
    "    primer_seq_time = primer_seq_steps * secs_per_step\n",
    "    primer_end_ad = (0.00001 if primer_seq_time > 0 else 0)\n",
    "    primer_start_time = 0\n",
    "    primer_end_time = primer_start_time + primer_seq_time - primer_end_ad\n",
    "    \n",
    "    gen_steps = total_steps - primer_seq_steps\n",
    "    \n",
    "    if gen_steps <= 0:\n",
    "        raise Exception('Total steps too small : {}. Need at least 1 bar bigger than primer : {}'.format(\n",
    "        total_steps, primer_seq_steps))\n",
    "    \n",
    "    gen_time = gen_steps * secs_per_step\n",
    "    gen_start_time = primer_end_time\n",
    "    gen_end_time = gen_start_time + gen_time + primer_end_ad\n",
    "    \n",
    "    print('Primer start : {} \\t Primer end : {}'.format(primer_start_time, primer_end_time))\n",
    "    print('Generation start : {} \\t Generation end : {}'.format(gen_start_time, gen_end_time))\n",
    "    \n",
    "    generator_options = GeneratorOptions()\n",
    "    generator_options.args['temperature'].float_value = temp\n",
    "    generator_options.args['beach_size'].int_value = beam_size\n",
    "    generator_options.args['branch_factor'].int_value = branch_factor\n",
    "    generator_options.args['steps_per_iteration'].int_value = steps_per_iteration\n",
    "    generator_options.args['condition_on_primer'].bool_value = condition_on_primer\n",
    "    generator_options.args['no_inject_primer_during_generation'].bool_value = not inject_primer_during_generation\n",
    "    generator_options.generate_sections.add(start_time = gen_start_time, end_time = gen_end_time)\n",
    "    \n",
    "    seq = generator.generate(primer_seq, generator_options)\n",
    "    \n",
    "    # Write midi file\n",
    "    date_time = time.strftime('%Y-%m-%d_%H%M%S')\n",
    "    gen_name = str(generator.__class__).split('.')[2]\n",
    "    midi = '%s_%s_%s.mid' % (gen_name, gen_id, date_time)\n",
    "    midi_path = os.path.join('output', midi)\n",
    "    mm.midi_io.note_sequence_to_midi_file(seq, midi_path)\n",
    "    print('Generated midi : {}'.format(os.path.abspath(midi_path)))\n",
    "    \n",
    "    # Generate plot\n",
    "    date_time = time.strftime('%Y-%m-%d_%H%M%S')\n",
    "    gen_name = str(generator.__class__).split('.')[2]\n",
    "    plot = '%s_%s_%s.html' % (gen_name, gen_id, date_time)\n",
    "    plot_path = os.path.join('output', plot)\n",
    "    \n",
    "    pretty_midi = mm.midi_io.note_sequence_to_pretty_midi(seq)\n",
    "    plotter = Plotter()\n",
    "    plotter.show(pretty_midi, plot_path)\n",
    "    print('Generated plot : {}'.format(os.path.abspath(plot_path)))\n",
    "    \n",
    "    return seq"
   ]
  },
  {
   "cell_type": "code",
   "execution_count": null,
   "metadata": {
    "ExecuteTime": {
     "end_time": "2020-12-05T12:38:11.382426Z",
     "start_time": "2020-12-05T12:38:10.639414Z"
    }
   },
   "outputs": [],
   "source": [
    "generate(\"polyphony_rnn.mag\", polyphony_sequence_generator, \"polyphony\",\n",
    "         condition_on_primer = False, inject_primer_during_generation = False, temp = 0.9,\n",
    "         primer = \"primers/Fur_Elisa_Beethoveen_Polyphonic.mid\")"
   ]
  },
  {
   "cell_type": "code",
   "execution_count": null,
   "metadata": {},
   "outputs": [],
   "source": []
  }
 ],
 "metadata": {
  "kernelspec": {
   "display_name": "Python 3",
   "language": "python",
   "name": "python3"
  },
  "language_info": {
   "codemirror_mode": {
    "name": "ipython",
    "version": 3
   },
   "file_extension": ".py",
   "mimetype": "text/x-python",
   "name": "python",
   "nbconvert_exporter": "python",
   "pygments_lexer": "ipython3",
   "version": "3.6.12"
  }
 },
 "nbformat": 4,
 "nbformat_minor": 4
}
