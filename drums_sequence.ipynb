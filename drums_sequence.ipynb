{
 "cells": [
  {
   "cell_type": "code",
   "execution_count": 1,
   "metadata": {
    "ExecuteTime": {
     "end_time": "2020-12-09T22:16:35.490615Z",
     "start_time": "2020-12-09T22:16:25.080685Z"
    }
   },
   "outputs": [],
   "source": [
    "import os\n",
    "import magenta.music as mm\n",
    "from magenta.models.shared import sequence_generator_bundle\n",
    "\n",
    "mm.notebook_utils.download_bundle(\"drum_kit_rnn.mag\", \"bundles\")\n",
    "bundle = sequence_generator_bundle.read_bundle_file(os.path.join(\"bundles\", \"drum_kit_rnn.mag\"))"
   ]
  },
  {
   "cell_type": "code",
   "execution_count": 2,
   "metadata": {
    "ExecuteTime": {
     "end_time": "2020-12-09T22:16:42.792042Z",
     "start_time": "2020-12-09T22:16:37.436572Z"
    }
   },
   "outputs": [
    {
     "name": "stdout",
     "output_type": "stream",
     "text": [
      "WARNING:tensorflow:The saved meta_graph is possibly from an older release:\n",
      "'model_variables' collection should be of type 'byte_list', but instead is of type 'node_list'.\n",
      "INFO:tensorflow:Restoring parameters from C:\\Users\\siddh\\AppData\\Local\\Temp\\tmphdr62mk1\\model.ckpt\n"
     ]
    }
   ],
   "source": [
    "from magenta.models.drums_rnn import drums_rnn_sequence_generator\n",
    "\n",
    "generator_map = drums_rnn_sequence_generator.get_generator_map()\n",
    "generator = generator_map[\"drum_kit\"](checkpoint = None, bundle = bundle)\n",
    "generator.initialize()"
   ]
  },
  {
   "cell_type": "code",
   "execution_count": 3,
   "metadata": {
    "ExecuteTime": {
     "end_time": "2020-12-09T22:16:42.798026Z",
     "start_time": "2020-12-09T22:16:42.793041Z"
    }
   },
   "outputs": [
    {
     "name": "stdout",
     "output_type": "stream",
     "text": [
      "Seconds per steps : 0.1\n",
      "Seconds per bar : 1.6\n"
     ]
    }
   ],
   "source": [
    "from magenta.music import constants\n",
    "\n",
    "# 1 bar primer - generate 3 bars to get 4 bars\n",
    "num_bars = 3\n",
    "qpm = 150\n",
    "\n",
    "# 4 steps per quarter\n",
    "secs_per_step = 60.0 / (qpm * generator.steps_per_quarter)\n",
    "num_steps_per_bar = constants.DEFAULT_STEPS_PER_BAR\n",
    "secs_per_bar = num_steps_per_bar * secs_per_step\n",
    "\n",
    "print(\"Seconds per steps : {}\".format(secs_per_step))\n",
    "print(\"Seconds per bar : {}\".format(secs_per_bar))"
   ]
  },
  {
   "cell_type": "code",
   "execution_count": 4,
   "metadata": {
    "ExecuteTime": {
     "end_time": "2020-12-09T22:16:47.660248Z",
     "start_time": "2020-12-09T22:16:47.653267Z"
    }
   },
   "outputs": [
    {
     "name": "stdout",
     "output_type": "stream",
     "text": [
      "Primer start : 0 \t Primer end : 1.6\n",
      "Generation start : 1.6 \t Generation end : 6.4\n"
     ]
    }
   ],
   "source": [
    "# Using a 1 bar primer\n",
    "# PC# 26 : Acoustic Guitar (Steel)\n",
    "# PC# 34 : Electric Bass (finger)\n",
    "# PC# 42 : Viola\n",
    "# PC# 61 : French Horn\n",
    "\n",
    "primer_drums = mm.DrumTrack([frozenset(pitches) for pitches in \n",
    "                            [(42, 61), (), (26, ), (),\n",
    "                             (42, 34, 61), (), (26, ), (),\n",
    "                             (), (), (42, ), (), \n",
    "                             (42, 34), (), (26, 61), (), ]])\n",
    "primer_sequence = primer_drums.to_sequence(qpm = qpm)\n",
    "primer_start_time = 0\n",
    "primer_end_time = primer_start_time + secs_per_bar\n",
    "\n",
    "gen_start_time = primer_end_time\n",
    "gen_end_time = gen_start_time + (secs_per_bar * num_bars)\n",
    "\n",
    "print('Primer start : {} \\t Primer end : {}'.format(primer_start_time, primer_end_time))\n",
    "print('Generation start : {} \\t Generation end : {}'.format(gen_start_time, gen_end_time))"
   ]
  },
  {
   "cell_type": "code",
   "execution_count": 9,
   "metadata": {
    "ExecuteTime": {
     "end_time": "2020-12-09T22:18:24.643000Z",
     "start_time": "2020-12-09T22:18:24.636017Z"
    }
   },
   "outputs": [
    {
     "name": "stdout",
     "output_type": "stream",
     "text": [
      "Temperature : 0.9\n"
     ]
    },
    {
     "data": {
      "text/plain": [
       "start_time: 1.6\n",
       "end_time: 6.4"
      ]
     },
     "execution_count": 9,
     "metadata": {},
     "output_type": "execute_result"
    }
   ],
   "source": [
    "from note_seq.protobuf import generator_pb2\n",
    "\n",
    "temp = 0.9\n",
    "generator_options = generator_pb2.GeneratorOptions()\n",
    "generator_options.args['temperature'].float_value = temp\n",
    "print('Temperature : {}'.format(temp))\n",
    "\n",
    "# Define generator\n",
    "generator_options.generate_sections.add(start_time = gen_start_time, end_time = gen_end_time)"
   ]
  },
  {
   "cell_type": "code",
   "execution_count": 10,
   "metadata": {
    "ExecuteTime": {
     "end_time": "2020-12-09T22:18:24.934505Z",
     "start_time": "2020-12-09T22:18:24.795876Z"
    }
   },
   "outputs": [
    {
     "name": "stdout",
     "output_type": "stream",
     "text": [
      "INFO:tensorflow:Beam search yields sequence with log-likelihood: -46.300232 \n"
     ]
    }
   ],
   "source": [
    "# Generating notesequence\n",
    "sequence = generator.generate(primer_sequence, generator_options)"
   ]
  },
  {
   "cell_type": "code",
   "execution_count": 11,
   "metadata": {
    "ExecuteTime": {
     "end_time": "2020-12-09T22:18:25.146937Z",
     "start_time": "2020-12-09T22:18:24.955449Z"
    }
   },
   "outputs": [
    {
     "name": "stdout",
     "output_type": "stream",
     "text": [
      "Generated midi : C:\\Users\\siddh\\Documents\\GitHub\\magenta_project\\output\\out_seq0.9.mid\n",
      "Generated plot : C:\\Users\\siddh\\Documents\\GitHub\\magenta_project\\output\\out_plot.html\n"
     ]
    }
   ],
   "source": [
    "from visual_midi import Plotter\n",
    "\n",
    "midi = os.path.join('output', 'out_seq0.9.mid')\n",
    "mm.midi_io.note_sequence_to_midi_file(sequence, midi)\n",
    "print('Generated midi : {}'.format(os.path.abspath(midi)))\n",
    "\n",
    "plot = os.path.join('output', 'out_plot.html')\n",
    "pretty_midi = mm.midi_io.note_sequence_to_pretty_midi(sequence)\n",
    "plotter = Plotter()\n",
    "plotter.show(pretty_midi, plot)\n",
    "print('Generated plot : {}'.format(os.path.abspath(plot)))"
   ]
  },
  {
   "cell_type": "code",
   "execution_count": null,
   "metadata": {},
   "outputs": [],
   "source": []
  }
 ],
 "metadata": {
  "kernelspec": {
   "display_name": "Python 3",
   "language": "python",
   "name": "python3"
  },
  "language_info": {
   "codemirror_mode": {
    "name": "ipython",
    "version": 3
   },
   "file_extension": ".py",
   "mimetype": "text/x-python",
   "name": "python",
   "nbconvert_exporter": "python",
   "pygments_lexer": "ipython3",
   "version": "3.6.12"
  }
 },
 "nbformat": 4,
 "nbformat_minor": 4
}
